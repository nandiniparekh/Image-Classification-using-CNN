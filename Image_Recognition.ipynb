{
  "nbformat": 4,
  "nbformat_minor": 0,
  "metadata": {
    "colab": {
      "provenance": [],
      "toc_visible": true,
      "authorship_tag": "ABX9TyO+kbFesn0wYKFP7gqmu0Rk",
      "include_colab_link": true
    },
    "kernelspec": {
      "name": "python3",
      "display_name": "Python 3"
    },
    "language_info": {
      "name": "python"
    }
  },
  "cells": [
    {
      "cell_type": "markdown",
      "metadata": {
        "id": "view-in-github",
        "colab_type": "text"
      },
      "source": [
        "<a href=\"https://colab.research.google.com/github/nandiniparekh/Image-Classification-using-CNN/blob/main/Image_Recognition.ipynb\" target=\"_parent\"><img src=\"https://colab.research.google.com/assets/colab-badge.svg\" alt=\"Open In Colab\"/></a>"
      ]
    },
    {
      "cell_type": "markdown",
      "source": [
        "# Image Recognition using CNN\n",
        "\n",
        "I explore image classification using Convulutional Neural Networks. The model trains and tests on MNIST Digits, parameterizes a basic CNN (a simplified LeNet Architecture) using a 5-fold stratified cross-validation design."
      ],
      "metadata": {
        "id": "AiBRSB5JFJK-"
      }
    },
    {
      "cell_type": "markdown",
      "source": [
        "# Imports"
      ],
      "metadata": {
        "id": "6A1PJNU6GYK2"
      }
    },
    {
      "cell_type": "code",
      "source": [
        "import numpy as np\n",
        "import matplotlib.pyplot as plt\n",
        "import keras\n",
        "from keras.models import Sequential\n",
        "from keras.layers import Dense, Dropout, Conv2D, MaxPooling2D, Flatten\n",
        "from sklearn.metrics import confusion_matrix\n",
        "from sklearn.model_selection import StratifiedKFold\n",
        "\n",
        "np.random.seed(0)"
      ],
      "metadata": {
        "id": "u1s0Fuh3GaHD"
      },
      "execution_count": null,
      "outputs": []
    },
    {
      "cell_type": "markdown",
      "source": [
        "# Data Preprocessing"
      ],
      "metadata": {
        "id": "I3_-HnX4G5I8"
      }
    },
    {
      "cell_type": "code",
      "source": [
        "from keras.datasets import mnist\n",
        "\n",
        "(X_train, y_train), (X_test, y_test) = mnist.load_data()"
      ],
      "metadata": {
        "id": "Qw9CAEH6G_OB"
      },
      "execution_count": null,
      "outputs": []
    },
    {
      "cell_type": "code",
      "source": [
        "print(\"X_train: \", X_train.shape)\n",
        "print(\"y_train: \", y_train.shape)\n",
        "print(\"X_test: \", X_test.shape)\n",
        "print(\"y_test: \", y_test.shape)"
      ],
      "metadata": {
        "colab": {
          "base_uri": "https://localhost:8080/"
        },
        "id": "HRRdFXISM9AZ",
        "outputId": "314a319e-c6bf-41e7-9423-1fda47f3b89d"
      },
      "execution_count": null,
      "outputs": [
        {
          "output_type": "stream",
          "name": "stdout",
          "text": [
            "X_train:  (60000, 28, 28)\n",
            "y_train:  (60000,)\n",
            "X_test:  (10000, 28, 28)\n",
            "y_test:  (10000,)\n"
          ]
        }
      ]
    },
    {
      "cell_type": "markdown",
      "source": [
        "## Visualize The Data"
      ],
      "metadata": {
        "id": "F1_RU5KgNZxo"
      }
    },
    {
      "cell_type": "markdown",
      "source": [
        "A visual of the data from the dataset is shown below."
      ],
      "metadata": {
        "id": "1cW_Ee0AmJcj"
      }
    },
    {
      "cell_type": "code",
      "source": [
        "num_classes= 10\n",
        "f, ax = plt.subplots(1, num_classes, figsize=(20,20))\n",
        "\n",
        "for i in range(0, num_classes):\n",
        "  sample = X_train[y_train == i][0]\n",
        "  ax[i].imshow(sample, cmap='gray')\n",
        "  ax[i].set_title('Label: {}'.format(i), fontsize=16)"
      ],
      "metadata": {
        "colab": {
          "base_uri": "https://localhost:8080/",
          "height": 144
        },
        "id": "gHjFS4pGNwcr",
        "outputId": "fa6c677f-cc2d-4ae1-a594-8633c8923d2c"
      },
      "execution_count": null,
      "outputs": [
        {
          "output_type": "display_data",
          "data": {
            "text/plain": [
              "<Figure size 2000x2000 with 10 Axes>"
            ],
            "image/png": "[encoded data removed]"
          },
          "metadata": {}
        }
      ]
    },
    {
      "cell_type": "markdown",
      "source": [
        "# Convolutional Neural Network Model"
      ],
      "metadata": {
        "id": "adK6XUlQQcZo"
      }
    },
    {
      "cell_type": "markdown",
      "source": [
        "The CNN model, specifically, the LeNet architecture using some modern design choices. The updates are:\n",
        "Use a ReLU activation instead of a sigmoid one.\n",
        "\n",
        "*   ReLU activation is used instead of a sigmoid one\n",
        "*   The pooling layers use the MAX() function instead of the arithmetic mean\n",
        "*  The classification uses a single dense layer followed by a softmax layer\n",
        "\n",
        "\n"
      ],
      "metadata": {
        "id": "-h46nDvUYLRm"
      }
    },
    {
      "cell_type": "code",
      "source": [
        "def create_model(filter=16, learning_rate=0.001):\n",
        "  model = Sequential()\n",
        "\n",
        "  # C1 Convolutional layer\n",
        "  model.add(Conv2D(filter, kernel_size=(3, 3), activation='relu', input_shape=(28, 28, 1)))\n",
        "\n",
        "  # S2 SubSampling (Pooling) layer\n",
        "  model.add(MaxPooling2D(pool_size=(2, 2)))\n",
        "\n",
        "  # C3 Convolutional layer\n",
        "  model.add(Conv2D(filter, kernel_size=(3, 3), activation='relu'))\n",
        "\n",
        "  # S4 SubSampling (Pooling) layer\n",
        "  model.add(MaxPooling2D(pool_size=(2, 2)))\n",
        "\n",
        "  # C5 Fully connected layer\n",
        "  model.add(Dense(120, activation='relu'))\n",
        "\n",
        "  # Flatten the output so that we can connect it with the fully connected layers by converting it into a 1D Array\n",
        "  model.add(Flatten())\n",
        "\n",
        "  # Classification\n",
        "\n",
        "  # FC6 Fully Connected Layers\n",
        "  model.add(Dense(84, activation='relu'))\n",
        "\n",
        "  # Output Layer\n",
        "  model.add(Dense(10, activation=\"softmax\"))\n",
        "\n",
        "  model.compile(optimizer=keras.optimizers.Adam(learning_rate=learning_rate), loss=\"categorical_crossentropy\", metrics=[\"accuracy\"])\n",
        "  return model\n",
        "\n"
      ],
      "metadata": {
        "id": "pmevh874QfP3"
      },
      "execution_count": null,
      "outputs": []
    },
    {
      "cell_type": "markdown",
      "source": [
        "## Parameter Exploration"
      ],
      "metadata": {
        "id": "C5wFZWMlSPft"
      }
    },
    {
      "cell_type": "markdown",
      "source": [
        "The following paramters are explored by the model:\n",
        "*   Number of Filters=[16, 32]\n",
        "*   Learning rate = [0.001, 0.01]\n",
        "\n",
        "A 5-fold stratified cross-fold validation is applied here.\n",
        "\n",
        "\n"
      ],
      "metadata": {
        "id": "FOzf5HjHlILz"
      }
    },
    {
      "cell_type": "code",
      "source": [
        "from sklearn.metrics import f1_score\n",
        "from sklearn.metrics import accuracy_score\n",
        "from keras.utils import to_categorical\n",
        "\n",
        "print(\"Training the model\\n\")\n",
        "\n",
        "# Hyperparamters\n",
        "best_f1 = 0\n",
        "best_accuracy = 0\n",
        "best_params = None\n",
        "filter_grid = [16, 32]\n",
        "lr_grid = [0.001, 0.01]\n",
        "\n",
        "skf = StratifiedKFold(n_splits=5)\n",
        "\n",
        "for filter in filter_grid:\n",
        "  for lr in lr_grid:\n",
        "    accuracy_scores = []\n",
        "\n",
        "    # Stratified Cross Validation\n",
        "    for train_index, val_index in skf.split(X_train, y_train):\n",
        "      X_train_fold, X_val_fold = X_train[train_index], X_train[val_index]\n",
        "      y_train_fold, y_val_fold = y_train[train_index], y_train[val_index]\n",
        "\n",
        "      if len(X_val_fold) == 0:\n",
        "        continue\n",
        "\n",
        "      # One-Hot Encoding\n",
        "      y_train_fold_encoded = to_categorical(y_train_fold)\n",
        "      y_val_fold_encoded = to_categorical(y_val_fold)\n",
        "\n",
        "      model = create_model(filter, lr)\n",
        "      model.fit(X_train_fold, y_train_fold_encoded)\n",
        "      y_pred_fold = model.predict(X_val_fold)\n",
        "\n",
        "      # Convert from one-hot encoding to label format\n",
        "      new_y_val_fold = np.argmax(y_val_fold_encoded, axis=1)\n",
        "\n",
        "      accuracy = accuracy_score(new_y_val_fold, np.argmax(y_pred_fold, axis=1))\n",
        "      accuracy_scores.append(accuracy)\n",
        "\n",
        "    if accuracy_scores:\n",
        "      avg_acc = np.mean(accuracy_scores)\n",
        "\n",
        "      if avg_acc > best_accuracy:\n",
        "        best_accuracy = avg_acc\n",
        "        best_params = { 'filters': filter, 'learning_rate': lr }\n",
        "\n",
        "      print(f\"\\nParameters: \\nFilters: {filter}\\nLearning Rate: {lr}\\nAverage Accuracy score: {avg_acc}\")\n",
        "\n"
      ],
      "metadata": {
        "colab": {
          "base_uri": "https://localhost:8080/"
        },
        "id": "cL24UJ7rvqvP",
        "outputId": "ce7b393d-4a63-460a-8c00-6ffc716c2b03"
      },
      "execution_count": null,
      "outputs": [
        {
          "output_type": "stream",
          "name": "stdout",
          "text": [
            "Training the model\n",
            "\n",
            "1500/1500 [==============================] - 33s 21ms/step - loss: 0.2763 - accuracy: 0.9404\n",
            "375/375 [==============================] - 3s 9ms/step\n",
            "1500/1500 [==============================] - 31s 20ms/step - loss: 0.3644 - accuracy: 0.9280\n",
            "375/375 [==============================] - 2s 6ms/step\n",
            "1500/1500 [==============================] - 32s 21ms/step - loss: 0.2208 - accuracy: 0.9431\n",
            "375/375 [==============================] - 2s 6ms/step\n",
            "1500/1500 [==============================] - 31s 20ms/step - loss: 0.3616 - accuracy: 0.9377\n",
            "375/375 [==============================] - 3s 8ms/step\n",
            "1500/1500 [==============================] - 30s 19ms/step - loss: 0.4061 - accuracy: 0.9327\n",
            "375/375 [==============================] - 2s 6ms/step\n",
            "\n",
            "Parameters: \n",
            "Filters: 16\n",
            "Learning Rate: 0.001\n",
            "Average Accuracy score: 0.9697000000000001\n",
            "1500/1500 [==============================] - 30s 19ms/step - loss: 0.6845 - accuracy: 0.8316\n",
            "375/375 [==============================] - 4s 10ms/step\n",
            "1500/1500 [==============================] - 30s 20ms/step - loss: 0.4354 - accuracy: 0.8890\n",
            "375/375 [==============================] - 3s 7ms/step\n",
            "1500/1500 [==============================] - 32s 21ms/step - loss: 0.5840 - accuracy: 0.8877\n",
            "375/375 [==============================] - 4s 9ms/step\n",
            "1500/1500 [==============================] - 29s 19ms/step - loss: 0.7006 - accuracy: 0.8605\n",
            "375/375 [==============================] - 3s 6ms/step\n",
            "1500/1500 [==============================] - 28s 18ms/step - loss: 0.5892 - accuracy: 0.8786\n",
            "375/375 [==============================] - 4s 9ms/step\n",
            "\n",
            "Parameters: \n",
            "Filters: 16\n",
            "Learning Rate: 0.01\n",
            "Average Accuracy score: 0.9169499999999999\n",
            "1500/1500 [==============================] - 41s 27ms/step - loss: 0.2966 - accuracy: 0.9426\n",
            "375/375 [==============================] - 3s 7ms/step\n",
            "1500/1500 [==============================] - 45s 28ms/step - loss: 0.2855 - accuracy: 0.9442\n",
            "375/375 [==============================] - 3s 8ms/step\n",
            "1500/1500 [==============================] - 42s 27ms/step - loss: 0.3094 - accuracy: 0.9429\n",
            "375/375 [==============================] - 4s 9ms/step\n",
            "1500/1500 [==============================] - 41s 27ms/step - loss: 0.2679 - accuracy: 0.9472\n",
            "375/375 [==============================] - 3s 8ms/step\n",
            "1500/1500 [==============================] - 43s 28ms/step - loss: 0.3900 - accuracy: 0.9374\n",
            "375/375 [==============================] - 3s 8ms/step\n",
            "\n",
            "Parameters: \n",
            "Filters: 32\n",
            "Learning Rate: 0.001\n",
            "Average Accuracy score: 0.9737333333333332\n",
            "1500/1500 [==============================] - 41s 27ms/step - loss: 0.7434 - accuracy: 0.8939\n",
            "375/375 [==============================] - 3s 8ms/step\n",
            "1500/1500 [==============================] - 42s 27ms/step - loss: 0.4902 - accuracy: 0.9056\n",
            "375/375 [==============================] - 4s 10ms/step\n",
            "1500/1500 [==============================] - 40s 26ms/step - loss: 0.5896 - accuracy: 0.9098\n",
            "375/375 [==============================] - 3s 8ms/step\n",
            "1500/1500 [==============================] - 41s 27ms/step - loss: 0.6071 - accuracy: 0.8616\n",
            "375/375 [==============================] - 4s 10ms/step\n",
            "1500/1500 [==============================] - 41s 26ms/step - loss: 0.6006 - accuracy: 0.9009\n",
            "375/375 [==============================] - 3s 8ms/step\n",
            "\n",
            "Parameters: \n",
            "Filters: 32\n",
            "Learning Rate: 0.01\n",
            "Average Accuracy score: 0.9328833333333334\n"
          ]
        }
      ]
    },
    {
      "cell_type": "code",
      "source": [
        "print(f\"Best accuracy score is {best_accuracy} with parameters {best_params}\")"
      ],
      "metadata": {
        "colab": {
          "base_uri": "https://localhost:8080/"
        },
        "id": "RJC9yO2Zyy2K",
        "outputId": "bf4e8a72-9d57-4e42-c2e2-89d37a5d7977"
      },
      "execution_count": null,
      "outputs": [
        {
          "output_type": "stream",
          "name": "stdout",
          "text": [
            "Best accuracy score is 0.9737333333333332 with parameters {'filters': 32, 'learning_rate': 0.001}\n"
          ]
        }
      ]
    },
    {
      "cell_type": "markdown",
      "source": [
        "## Train the model using the identified best parameters"
      ],
      "metadata": {
        "id": "79PK1pXLO_NW"
      }
    },
    {
      "cell_type": "markdown",
      "source": [
        "The best paramters identified from the paramter exploration are used to train and test a new model. The result is discussed below."
      ],
      "metadata": {
        "id": "_-1yWjCNltWk"
      }
    },
    {
      "cell_type": "code",
      "source": [
        "best_filters = best_params[\"filters\"]\n",
        "best_lr = best_params[\"learning_rate\"]\n",
        "\n",
        "best_model = create_model(filter=best_filters, learning_rate=best_lr)\n",
        "\n",
        "y_train_encoded = to_categorical(y_train)\n",
        "y_test_encoded = to_categorical(y_test)\n",
        "\n",
        "best_model.fit(X_train, y_train_encoded)\n",
        "y_pred = model.predict(X_test)"
      ],
      "metadata": {
        "colab": {
          "base_uri": "https://localhost:8080/"
        },
        "id": "Td0eIXiry3pN",
        "outputId": "4c42cf28-a02d-4aa2-c698-307f0b666acc"
      },
      "execution_count": null,
      "outputs": [
        {
          "output_type": "stream",
          "name": "stdout",
          "text": [
            "1875/1875 [==============================] - 52s 27ms/step - loss: 0.2445 - accuracy: 0.9510\n",
            "313/313 [==============================] - 3s 8ms/step\n"
          ]
        }
      ]
    },
    {
      "cell_type": "markdown",
      "source": [
        "The accuracy of the new model is found to be:"
      ],
      "metadata": {
        "id": "mqQhgpJXl4B1"
      }
    },
    {
      "cell_type": "code",
      "source": [
        "# Convert from one-hot encoding to label format\n",
        "new_y_test = np.argmax(y_test_encoded, axis=1)\n",
        "\n",
        "new_best_accuracy = accuracy_score(new_y_test, np.argmax(y_pred, axis=1))\n",
        "new_best_accuracy"
      ],
      "metadata": {
        "colab": {
          "base_uri": "https://localhost:8080/"
        },
        "id": "hek2Vy3tl54m",
        "outputId": "78b1c64b-7b68-41c0-bfec-d2da04b4b2be"
      },
      "execution_count": null,
      "outputs": [
        {
          "output_type": "execute_result",
          "data": {
            "text/plain": [
              "0.9534"
            ]
          },
          "metadata": {},
          "execution_count": 151
        }
      ]
    }
  ]
}